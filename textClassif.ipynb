{
 "cells": [
  {
   "cell_type": "code",
   "execution_count": 33,
   "metadata": {},
   "outputs": [
    {
     "name": "stdout",
     "output_type": "stream",
     "text": [
      "Requirement already satisfied: spacy in ./textclassf/lib/python3.11/site-packages (3.7.2)\n",
      "Requirement already satisfied: scikit-learn in ./textclassf/lib/python3.11/site-packages (1.4.0)\n",
      "Requirement already satisfied: pandas in ./textclassf/lib/python3.11/site-packages (2.2.0)\n",
      "Requirement already satisfied: matplotlib in ./textclassf/lib/python3.11/site-packages (3.8.2)\n",
      "Requirement already satisfied: transformers in ./textclassf/lib/python3.11/site-packages (4.37.2)\n",
      "Requirement already satisfied: tensorflow[and-cuda] in ./textclassf/lib/python3.11/site-packages (2.15.0.post1)\n",
      "Requirement already satisfied: absl-py>=1.0.0 in ./textclassf/lib/python3.11/site-packages (from tensorflow[and-cuda]) (2.1.0)\n",
      "Requirement already satisfied: astunparse>=1.6.0 in ./textclassf/lib/python3.11/site-packages (from tensorflow[and-cuda]) (1.6.3)\n",
      "Requirement already satisfied: flatbuffers>=23.5.26 in ./textclassf/lib/python3.11/site-packages (from tensorflow[and-cuda]) (23.5.26)\n",
      "Requirement already satisfied: gast!=0.5.0,!=0.5.1,!=0.5.2,>=0.2.1 in ./textclassf/lib/python3.11/site-packages (from tensorflow[and-cuda]) (0.5.4)\n",
      "Requirement already satisfied: google-pasta>=0.1.1 in ./textclassf/lib/python3.11/site-packages (from tensorflow[and-cuda]) (0.2.0)\n",
      "Requirement already satisfied: h5py>=2.9.0 in ./textclassf/lib/python3.11/site-packages (from tensorflow[and-cuda]) (3.10.0)\n",
      "Requirement already satisfied: libclang>=13.0.0 in ./textclassf/lib/python3.11/site-packages (from tensorflow[and-cuda]) (16.0.6)\n",
      "Requirement already satisfied: ml-dtypes~=0.2.0 in ./textclassf/lib/python3.11/site-packages (from tensorflow[and-cuda]) (0.2.0)\n",
      "Requirement already satisfied: numpy<2.0.0,>=1.23.5 in ./textclassf/lib/python3.11/site-packages (from tensorflow[and-cuda]) (1.26.3)\n",
      "Requirement already satisfied: opt-einsum>=2.3.2 in ./textclassf/lib/python3.11/site-packages (from tensorflow[and-cuda]) (3.3.0)\n",
      "Requirement already satisfied: packaging in ./textclassf/lib/python3.11/site-packages (from tensorflow[and-cuda]) (23.2)\n",
      "Requirement already satisfied: protobuf!=4.21.0,!=4.21.1,!=4.21.2,!=4.21.3,!=4.21.4,!=4.21.5,<5.0.0dev,>=3.20.3 in ./textclassf/lib/python3.11/site-packages (from tensorflow[and-cuda]) (4.23.4)\n",
      "Requirement already satisfied: setuptools in ./textclassf/lib/python3.11/site-packages (from tensorflow[and-cuda]) (69.0.3)\n",
      "Requirement already satisfied: six>=1.12.0 in ./textclassf/lib/python3.11/site-packages (from tensorflow[and-cuda]) (1.16.0)\n",
      "Requirement already satisfied: termcolor>=1.1.0 in ./textclassf/lib/python3.11/site-packages (from tensorflow[and-cuda]) (2.4.0)\n",
      "Requirement already satisfied: typing-extensions>=3.6.6 in ./textclassf/lib/python3.11/site-packages (from tensorflow[and-cuda]) (4.9.0)\n",
      "Requirement already satisfied: wrapt<1.15,>=1.11.0 in ./textclassf/lib/python3.11/site-packages (from tensorflow[and-cuda]) (1.14.1)\n",
      "Requirement already satisfied: tensorflow-io-gcs-filesystem>=0.23.1 in ./textclassf/lib/python3.11/site-packages (from tensorflow[and-cuda]) (0.35.0)\n",
      "Requirement already satisfied: grpcio<2.0,>=1.24.3 in ./textclassf/lib/python3.11/site-packages (from tensorflow[and-cuda]) (1.60.0)\n",
      "Requirement already satisfied: tensorboard<2.16,>=2.15 in ./textclassf/lib/python3.11/site-packages (from tensorflow[and-cuda]) (2.15.1)\n",
      "Requirement already satisfied: tensorflow-estimator<2.16,>=2.15.0 in ./textclassf/lib/python3.11/site-packages (from tensorflow[and-cuda]) (2.15.0)\n",
      "Requirement already satisfied: keras<2.16,>=2.15.0 in ./textclassf/lib/python3.11/site-packages (from tensorflow[and-cuda]) (2.15.0)\n",
      "Requirement already satisfied: nvidia-cublas-cu12==12.2.5.6 in ./textclassf/lib/python3.11/site-packages (from tensorflow[and-cuda]) (12.2.5.6)\n",
      "Requirement already satisfied: nvidia-cuda-cupti-cu12==12.2.142 in ./textclassf/lib/python3.11/site-packages (from tensorflow[and-cuda]) (12.2.142)\n",
      "Requirement already satisfied: nvidia-cuda-nvcc-cu12==12.2.140 in ./textclassf/lib/python3.11/site-packages (from tensorflow[and-cuda]) (12.2.140)\n",
      "Requirement already satisfied: nvidia-cuda-nvrtc-cu12==12.2.140 in ./textclassf/lib/python3.11/site-packages (from tensorflow[and-cuda]) (12.2.140)\n",
      "Requirement already satisfied: nvidia-cuda-runtime-cu12==12.2.140 in ./textclassf/lib/python3.11/site-packages (from tensorflow[and-cuda]) (12.2.140)\n",
      "Requirement already satisfied: nvidia-cudnn-cu12==8.9.4.25 in ./textclassf/lib/python3.11/site-packages (from tensorflow[and-cuda]) (8.9.4.25)\n",
      "Requirement already satisfied: nvidia-cufft-cu12==11.0.8.103 in ./textclassf/lib/python3.11/site-packages (from tensorflow[and-cuda]) (11.0.8.103)\n",
      "Requirement already satisfied: nvidia-curand-cu12==10.3.3.141 in ./textclassf/lib/python3.11/site-packages (from tensorflow[and-cuda]) (10.3.3.141)\n",
      "Requirement already satisfied: nvidia-cusolver-cu12==11.5.2.141 in ./textclassf/lib/python3.11/site-packages (from tensorflow[and-cuda]) (11.5.2.141)\n",
      "Requirement already satisfied: nvidia-cusparse-cu12==12.1.2.141 in ./textclassf/lib/python3.11/site-packages (from tensorflow[and-cuda]) (12.1.2.141)\n",
      "Requirement already satisfied: nvidia-nccl-cu12==2.16.5 in ./textclassf/lib/python3.11/site-packages (from tensorflow[and-cuda]) (2.16.5)\n",
      "Requirement already satisfied: nvidia-nvjitlink-cu12==12.2.140 in ./textclassf/lib/python3.11/site-packages (from tensorflow[and-cuda]) (12.2.140)\n",
      "Requirement already satisfied: spacy-legacy<3.1.0,>=3.0.11 in ./textclassf/lib/python3.11/site-packages (from spacy) (3.0.12)\n",
      "Requirement already satisfied: spacy-loggers<2.0.0,>=1.0.0 in ./textclassf/lib/python3.11/site-packages (from spacy) (1.0.5)\n",
      "Requirement already satisfied: murmurhash<1.1.0,>=0.28.0 in ./textclassf/lib/python3.11/site-packages (from spacy) (1.0.10)\n",
      "Requirement already satisfied: cymem<2.1.0,>=2.0.2 in ./textclassf/lib/python3.11/site-packages (from spacy) (2.0.8)\n",
      "Requirement already satisfied: preshed<3.1.0,>=3.0.2 in ./textclassf/lib/python3.11/site-packages (from spacy) (3.0.9)\n",
      "Requirement already satisfied: thinc<8.3.0,>=8.1.8 in ./textclassf/lib/python3.11/site-packages (from spacy) (8.2.2)\n",
      "Requirement already satisfied: wasabi<1.2.0,>=0.9.1 in ./textclassf/lib/python3.11/site-packages (from spacy) (1.1.2)\n",
      "Requirement already satisfied: srsly<3.0.0,>=2.4.3 in ./textclassf/lib/python3.11/site-packages (from spacy) (2.4.8)\n",
      "Requirement already satisfied: catalogue<2.1.0,>=2.0.6 in ./textclassf/lib/python3.11/site-packages (from spacy) (2.0.10)\n",
      "Requirement already satisfied: weasel<0.4.0,>=0.1.0 in ./textclassf/lib/python3.11/site-packages (from spacy) (0.3.4)\n",
      "Requirement already satisfied: typer<0.10.0,>=0.3.0 in ./textclassf/lib/python3.11/site-packages (from spacy) (0.9.0)\n",
      "Requirement already satisfied: smart-open<7.0.0,>=5.2.1 in ./textclassf/lib/python3.11/site-packages (from spacy) (6.4.0)\n",
      "Requirement already satisfied: tqdm<5.0.0,>=4.38.0 in ./textclassf/lib/python3.11/site-packages (from spacy) (4.66.1)\n",
      "Requirement already satisfied: requests<3.0.0,>=2.13.0 in ./textclassf/lib/python3.11/site-packages (from spacy) (2.31.0)\n",
      "Requirement already satisfied: pydantic!=1.8,!=1.8.1,<3.0.0,>=1.7.4 in ./textclassf/lib/python3.11/site-packages (from spacy) (2.6.0)\n",
      "Requirement already satisfied: jinja2 in ./textclassf/lib/python3.11/site-packages (from spacy) (3.1.3)\n",
      "Requirement already satisfied: langcodes<4.0.0,>=3.2.0 in ./textclassf/lib/python3.11/site-packages (from spacy) (3.3.0)\n",
      "Requirement already satisfied: scipy>=1.6.0 in ./textclassf/lib/python3.11/site-packages (from scikit-learn) (1.12.0)\n",
      "Requirement already satisfied: joblib>=1.2.0 in ./textclassf/lib/python3.11/site-packages (from scikit-learn) (1.3.2)\n",
      "Requirement already satisfied: threadpoolctl>=2.0.0 in ./textclassf/lib/python3.11/site-packages (from scikit-learn) (3.2.0)\n",
      "Requirement already satisfied: python-dateutil>=2.8.2 in ./textclassf/lib/python3.11/site-packages (from pandas) (2.8.2)\n",
      "Requirement already satisfied: pytz>=2020.1 in ./textclassf/lib/python3.11/site-packages (from pandas) (2023.4)\n",
      "Requirement already satisfied: tzdata>=2022.7 in ./textclassf/lib/python3.11/site-packages (from pandas) (2023.4)\n",
      "Requirement already satisfied: contourpy>=1.0.1 in ./textclassf/lib/python3.11/site-packages (from matplotlib) (1.2.0)\n",
      "Requirement already satisfied: cycler>=0.10 in ./textclassf/lib/python3.11/site-packages (from matplotlib) (0.12.1)\n",
      "Requirement already satisfied: fonttools>=4.22.0 in ./textclassf/lib/python3.11/site-packages (from matplotlib) (4.47.2)\n",
      "Requirement already satisfied: kiwisolver>=1.3.1 in ./textclassf/lib/python3.11/site-packages (from matplotlib) (1.4.5)\n",
      "Requirement already satisfied: pillow>=8 in ./textclassf/lib/python3.11/site-packages (from matplotlib) (10.2.0)\n",
      "Requirement already satisfied: pyparsing>=2.3.1 in ./textclassf/lib/python3.11/site-packages (from matplotlib) (3.1.1)\n",
      "Requirement already satisfied: filelock in ./textclassf/lib/python3.11/site-packages (from transformers) (3.13.1)\n",
      "Requirement already satisfied: huggingface-hub<1.0,>=0.19.3 in ./textclassf/lib/python3.11/site-packages (from transformers) (0.20.3)\n",
      "Requirement already satisfied: pyyaml>=5.1 in ./textclassf/lib/python3.11/site-packages (from transformers) (6.0.1)\n",
      "Requirement already satisfied: regex!=2019.12.17 in ./textclassf/lib/python3.11/site-packages (from transformers) (2023.12.25)\n",
      "Requirement already satisfied: tokenizers<0.19,>=0.14 in ./textclassf/lib/python3.11/site-packages (from transformers) (0.15.1)\n",
      "Requirement already satisfied: safetensors>=0.4.1 in ./textclassf/lib/python3.11/site-packages (from transformers) (0.4.2)\n",
      "Requirement already satisfied: wheel<1.0,>=0.23.0 in ./textclassf/lib/python3.11/site-packages (from astunparse>=1.6.0->tensorflow[and-cuda]) (0.42.0)\n",
      "Requirement already satisfied: fsspec>=2023.5.0 in ./textclassf/lib/python3.11/site-packages (from huggingface-hub<1.0,>=0.19.3->transformers) (2023.12.2)\n",
      "Requirement already satisfied: annotated-types>=0.4.0 in ./textclassf/lib/python3.11/site-packages (from pydantic!=1.8,!=1.8.1,<3.0.0,>=1.7.4->spacy) (0.6.0)\n",
      "Requirement already satisfied: pydantic-core==2.16.1 in ./textclassf/lib/python3.11/site-packages (from pydantic!=1.8,!=1.8.1,<3.0.0,>=1.7.4->spacy) (2.16.1)\n",
      "Requirement already satisfied: charset-normalizer<4,>=2 in ./textclassf/lib/python3.11/site-packages (from requests<3.0.0,>=2.13.0->spacy) (3.3.2)\n",
      "Requirement already satisfied: idna<4,>=2.5 in ./textclassf/lib/python3.11/site-packages (from requests<3.0.0,>=2.13.0->spacy) (3.6)\n",
      "Requirement already satisfied: urllib3<3,>=1.21.1 in ./textclassf/lib/python3.11/site-packages (from requests<3.0.0,>=2.13.0->spacy) (2.2.0)\n",
      "Requirement already satisfied: certifi>=2017.4.17 in ./textclassf/lib/python3.11/site-packages (from requests<3.0.0,>=2.13.0->spacy) (2023.11.17)\n",
      "Requirement already satisfied: google-auth<3,>=1.6.3 in ./textclassf/lib/python3.11/site-packages (from tensorboard<2.16,>=2.15->tensorflow[and-cuda]) (2.27.0)\n",
      "Requirement already satisfied: google-auth-oauthlib<2,>=0.5 in ./textclassf/lib/python3.11/site-packages (from tensorboard<2.16,>=2.15->tensorflow[and-cuda]) (1.2.0)\n",
      "Requirement already satisfied: markdown>=2.6.8 in ./textclassf/lib/python3.11/site-packages (from tensorboard<2.16,>=2.15->tensorflow[and-cuda]) (3.5.2)\n",
      "Requirement already satisfied: tensorboard-data-server<0.8.0,>=0.7.0 in ./textclassf/lib/python3.11/site-packages (from tensorboard<2.16,>=2.15->tensorflow[and-cuda]) (0.7.2)\n",
      "Requirement already satisfied: werkzeug>=1.0.1 in ./textclassf/lib/python3.11/site-packages (from tensorboard<2.16,>=2.15->tensorflow[and-cuda]) (3.0.1)\n",
      "Requirement already satisfied: blis<0.8.0,>=0.7.8 in ./textclassf/lib/python3.11/site-packages (from thinc<8.3.0,>=8.1.8->spacy) (0.7.11)\n",
      "Requirement already satisfied: confection<1.0.0,>=0.0.1 in ./textclassf/lib/python3.11/site-packages (from thinc<8.3.0,>=8.1.8->spacy) (0.1.4)\n",
      "Requirement already satisfied: click<9.0.0,>=7.1.1 in ./textclassf/lib/python3.11/site-packages (from typer<0.10.0,>=0.3.0->spacy) (8.1.7)\n",
      "Requirement already satisfied: cloudpathlib<0.17.0,>=0.7.0 in ./textclassf/lib/python3.11/site-packages (from weasel<0.4.0,>=0.1.0->spacy) (0.16.0)\n",
      "Requirement already satisfied: MarkupSafe>=2.0 in ./textclassf/lib/python3.11/site-packages (from jinja2->spacy) (2.1.4)\n",
      "Requirement already satisfied: cachetools<6.0,>=2.0.0 in ./textclassf/lib/python3.11/site-packages (from google-auth<3,>=1.6.3->tensorboard<2.16,>=2.15->tensorflow[and-cuda]) (5.3.2)\n",
      "Requirement already satisfied: pyasn1-modules>=0.2.1 in ./textclassf/lib/python3.11/site-packages (from google-auth<3,>=1.6.3->tensorboard<2.16,>=2.15->tensorflow[and-cuda]) (0.3.0)\n",
      "Requirement already satisfied: rsa<5,>=3.1.4 in ./textclassf/lib/python3.11/site-packages (from google-auth<3,>=1.6.3->tensorboard<2.16,>=2.15->tensorflow[and-cuda]) (4.9)\n",
      "Requirement already satisfied: requests-oauthlib>=0.7.0 in ./textclassf/lib/python3.11/site-packages (from google-auth-oauthlib<2,>=0.5->tensorboard<2.16,>=2.15->tensorflow[and-cuda]) (1.3.1)\n",
      "Requirement already satisfied: pyasn1<0.6.0,>=0.4.6 in ./textclassf/lib/python3.11/site-packages (from pyasn1-modules>=0.2.1->google-auth<3,>=1.6.3->tensorboard<2.16,>=2.15->tensorflow[and-cuda]) (0.5.1)\n",
      "Requirement already satisfied: oauthlib>=3.0.0 in ./textclassf/lib/python3.11/site-packages (from requests-oauthlib>=0.7.0->google-auth-oauthlib<2,>=0.5->tensorboard<2.16,>=2.15->tensorflow[and-cuda]) (3.2.2)\n",
      "Note: you may need to restart the kernel to use updated packages.\n"
     ]
    }
   ],
   "source": [
    "%pip install 'tensorflow[and-cuda]' spacy scikit-learn pandas matplotlib transformers"
   ]
  },
  {
   "cell_type": "code",
   "execution_count": 34,
   "metadata": {},
   "outputs": [],
   "source": [
    "from keras.callbacks import EarlyStopping, LearningRateScheduler, CallbackList, ReduceLROnPlateau\n",
    "from keras.layers import Embedding, LSTM, Dense, Dropout, Bidirectional\n",
    "from keras.metrics import Precision, Recall, AUC\n",
    "from keras.preprocessing.sequence import pad_sequences\n",
    "from keras.preprocessing.text import Tokenizer\n",
    "from keras import Sequential\n",
    "from keras.utils import to_categorical\n",
    "from tensorflow import keras\n",
    "from sklearn.utils.class_weight import compute_class_weight\n",
    "from sklearn.metrics import confusion_matrix, classification_report, accuracy_score\n",
    "from sklearn.model_selection import train_test_split\n",
    "from sklearn.feature_extraction.text import TfidfVectorizer\n",
    "from sklearn.preprocessing import LabelEncoder\n",
    "from tokenizers import BertWordPieceTokenizer\n",
    "import transformers\n",
    "import matplotlib.pyplot as plt\n",
    "import tensorflow as tf\n",
    "import pandas as pd\n",
    "import numpy as np\n",
    "import spacy\n",
    "import math\n",
    "import warnings\n",
    "warnings.filterwarnings('ignore')\n",
    "\n"
   ]
  },
  {
   "cell_type": "code",
   "execution_count": 35,
   "metadata": {},
   "outputs": [
    {
     "name": "stdout",
     "output_type": "stream",
     "text": [
      "env: TOKENIZERS_PARALLELISM=true\n"
     ]
    }
   ],
   "source": [
    "%env TOKENIZERS_PARALLELISM=true"
   ]
  },
  {
   "cell_type": "code",
   "execution_count": 36,
   "metadata": {},
   "outputs": [
    {
     "name": "stdout",
     "output_type": "stream",
     "text": [
      "[PhysicalDevice(name='/physical_device:GPU:0', device_type='GPU')]\n"
     ]
    }
   ],
   "source": [
    "print(tf.config.list_physical_devices('GPU'))"
   ]
  },
  {
   "cell_type": "code",
   "execution_count": 37,
   "metadata": {},
   "outputs": [
    {
     "data": {
      "text/html": [
       "<div>\n",
       "<style scoped>\n",
       "    .dataframe tbody tr th:only-of-type {\n",
       "        vertical-align: middle;\n",
       "    }\n",
       "\n",
       "    .dataframe tbody tr th {\n",
       "        vertical-align: top;\n",
       "    }\n",
       "\n",
       "    .dataframe thead th {\n",
       "        text-align: right;\n",
       "    }\n",
       "</style>\n",
       "<table border=\"1\" class=\"dataframe\">\n",
       "  <thead>\n",
       "    <tr style=\"text-align: right;\">\n",
       "      <th></th>\n",
       "      <th>text</th>\n",
       "      <th>label</th>\n",
       "    </tr>\n",
       "  </thead>\n",
       "  <tbody>\n",
       "    <tr>\n",
       "      <th>0</th>\n",
       "      <td>i feel like my only role now would be to tear ...</td>\n",
       "      <td>sadness</td>\n",
       "    </tr>\n",
       "    <tr>\n",
       "      <th>1</th>\n",
       "      <td>i feel just bcoz a fight we get mad to each ot...</td>\n",
       "      <td>anger</td>\n",
       "    </tr>\n",
       "    <tr>\n",
       "      <th>2</th>\n",
       "      <td>i feel like reds and purples are just so rich ...</td>\n",
       "      <td>joy</td>\n",
       "    </tr>\n",
       "    <tr>\n",
       "      <th>3</th>\n",
       "      <td>im not sure the feeling of loss will ever go a...</td>\n",
       "      <td>sadness</td>\n",
       "    </tr>\n",
       "    <tr>\n",
       "      <th>4</th>\n",
       "      <td>i feel like ive gotten to know many of you thr...</td>\n",
       "      <td>joy</td>\n",
       "    </tr>\n",
       "  </tbody>\n",
       "</table>\n",
       "</div>"
      ],
      "text/plain": [
       "                                                text    label\n",
       "0  i feel like my only role now would be to tear ...  sadness\n",
       "1  i feel just bcoz a fight we get mad to each ot...    anger\n",
       "2  i feel like reds and purples are just so rich ...      joy\n",
       "3  im not sure the feeling of loss will ever go a...  sadness\n",
       "4  i feel like ive gotten to know many of you thr...      joy"
      ]
     },
     "execution_count": 37,
     "metadata": {},
     "output_type": "execute_result"
    }
   ],
   "source": [
    "data_test = pd.read_csv('dados_teste.txt', sep=';', header=None)\n",
    "data_train = pd.read_csv('dados_treino.txt', sep=';', header=None)\n",
    "data_test.columns = ['text', 'label']\n",
    "data_train.columns = ['text', 'label']\n",
    "data_test.head()"
   ]
  },
  {
   "cell_type": "code",
   "execution_count": 38,
   "metadata": {},
   "outputs": [
    {
     "name": "stdout",
     "output_type": "stream",
     "text": [
      "shape train data: (16000, 2)\n",
      "shape test data: (2000, 2)\n"
     ]
    }
   ],
   "source": [
    "print('shape train data: {}\\nshape test data: {}'.format(\n",
    "    data_train.shape, data_test.shape))"
   ]
  },
  {
   "cell_type": "code",
   "execution_count": 39,
   "metadata": {},
   "outputs": [
    {
     "data": {
      "text/plain": [
       "label\n",
       "joy         5362\n",
       "sadness     4666\n",
       "anger       2159\n",
       "fear        1937\n",
       "love        1304\n",
       "surprise     572\n",
       "Name: count, dtype: int64"
      ]
     },
     "execution_count": 39,
     "metadata": {},
     "output_type": "execute_result"
    }
   ],
   "source": [
    "data_train['label'].value_counts()"
   ]
  },
  {
   "cell_type": "code",
   "execution_count": 40,
   "metadata": {},
   "outputs": [
    {
     "data": {
      "text/plain": [
       "label\n",
       "joy         695\n",
       "sadness     581\n",
       "anger       275\n",
       "fear        224\n",
       "love        159\n",
       "surprise     66\n",
       "Name: count, dtype: int64"
      ]
     },
     "execution_count": 40,
     "metadata": {},
     "output_type": "execute_result"
    }
   ],
   "source": [
    "data_test['label'].value_counts()"
   ]
  },
  {
   "cell_type": "code",
   "execution_count": 41,
   "metadata": {},
   "outputs": [
    {
     "name": "stdout",
     "output_type": "stream",
     "text": [
      "\u001b[38;5;2m✔ Download and installation successful\u001b[0m\n",
      "You can now load the package via spacy.load('en_core_web_md')\n"
     ]
    }
   ],
   "source": [
    "!python -m spacy download en_core_web_md -q"
   ]
  },
  {
   "cell_type": "code",
   "execution_count": 42,
   "metadata": {},
   "outputs": [],
   "source": [
    "nlp = spacy.load('en_core_web_md')\n",
    "\n",
    "\n",
    "def process_text(text: str) -> str:\n",
    "    doc = nlp(text)\n",
    "    tokens = [token.lemma_.lower().strip()\n",
    "              for token in doc if not token.is_stop]\n",
    "    return ' '.join(tokens)"
   ]
  },
  {
   "cell_type": "code",
   "execution_count": 43,
   "metadata": {},
   "outputs": [],
   "source": [
    "data_train['processed_text'] = data_train['text'].apply(process_text)\n",
    "data_test['processed_text'] = data_test['text'].apply(process_text)"
   ]
  },
  {
   "cell_type": "code",
   "execution_count": 44,
   "metadata": {},
   "outputs": [
    {
     "name": "stdout",
     "output_type": "stream",
     "text": [
      "                                                text    label  \\\n",
      "0  i feel like my only role now would be to tear ...  sadness   \n",
      "1  i feel just bcoz a fight we get mad to each ot...    anger   \n",
      "2  i feel like reds and purples are just so rich ...      joy   \n",
      "3  im not sure the feeling of loss will ever go a...  sadness   \n",
      "4  i feel like ive gotten to know many of you thr...      joy   \n",
      "\n",
      "                                      processed_text  \n",
      "0      feel like role tear sail pessimism discontent  \n",
      "1  feel bcoz fight mad n u wanna publicity n let ...  \n",
      "2             feel like red purple rich kind perfect  \n",
      "3  m sure feeling loss away dull sweet feeling no...  \n",
      "4  feel like ve get know comment email m apprecia...  \n",
      "                                                text    label  \\\n",
      "0  i am feeling completely overwhelmed i have two...     fear   \n",
      "1    i have the feeling she was amused and delighted      joy   \n",
      "2  i was able to help chai lifeline with your sup...      joy   \n",
      "3  i already feel like i fucked up though because...    anger   \n",
      "4  i still love my so and wish the best for him i...  sadness   \n",
      "\n",
      "                                      processed_text  \n",
      "0  feel completely overwhelmed strategy help feel...  \n",
      "1                              feeling amuse delight  \n",
      "2  able help chai lifeline support encouragement ...  \n",
      "3             feel like fuck not usually eat morning  \n",
      "4  love wish good long tolerate effect bm life fa...  \n"
     ]
    }
   ],
   "source": [
    "print(data_test.head())\n",
    "print(data_train.head())"
   ]
  },
  {
   "cell_type": "code",
   "execution_count": 45,
   "metadata": {},
   "outputs": [
    {
     "name": "stdout",
     "output_type": "stream",
     "text": [
      "vocab size: 11897\n"
     ]
    }
   ],
   "source": [
    "tokenizer = Tokenizer()\n",
    "tokenizer.fit_on_texts(data_train['processed_text'])\n",
    "vocab_size = len(tokenizer.word_index) + 1\n",
    "print('vocab size: {}'.format(vocab_size))\n"
   ]
  },
  {
   "cell_type": "code",
   "execution_count": 46,
   "metadata": {},
   "outputs": [],
   "source": [
    "maxlen = 100\n",
    "embed_len = 100"
   ]
  },
  {
   "cell_type": "code",
   "execution_count": 61,
   "metadata": {},
   "outputs": [],
   "source": [
    "sequence_train = tokenizer.texts_to_sequences(data_train['processed_text'])\n",
    "sequence_test = tokenizer.texts_to_sequences(data_test['processed_text'])\n",
    "pad_sequences_train = pad_sequences(sequence_train, maxlen=maxlen, truncating='post')\n",
    "pad_sequences_test = pad_sequences(sequence_test, maxlen=maxlen, truncating='post')"
   ]
  },
  {
   "cell_type": "code",
   "execution_count": 65,
   "metadata": {},
   "outputs": [
    {
     "name": "stdout",
     "output_type": "stream",
     "text": [
      "Model: \"sequential_6\"\n",
      "_________________________________________________________________\n",
      " Layer (type)                Output Shape              Param #   \n",
      "=================================================================\n",
      " embedding_6 (Embedding)     (None, 100, 100)          1189700   \n",
      "                                                                 \n",
      " bidirectional_9 (Bidirecti  (None, 200)               160800    \n",
      " onal)                                                           \n",
      "                                                                 \n",
      " dropout_19 (Dropout)        (None, 200)               0         \n",
      "                                                                 \n",
      " dense_18 (Dense)            (None, 64)                12864     \n",
      "                                                                 \n",
      " dropout_20 (Dropout)        (None, 64)                0         \n",
      "                                                                 \n",
      " dense_19 (Dense)            (None, 64)                4160      \n",
      "                                                                 \n",
      " dropout_21 (Dropout)        (None, 64)                0         \n",
      "                                                                 \n",
      " dense_20 (Dense)            (None, 6)                 390       \n",
      "                                                                 \n",
      "=================================================================\n",
      "Total params: 1367914 (5.22 MB)\n",
      "Trainable params: 1367914 (5.22 MB)\n",
      "Non-trainable params: 0 (0.00 Byte)\n",
      "_________________________________________________________________\n"
     ]
    }
   ],
   "source": [
    "model = Sequential([\n",
    "    Embedding(vocab_size, embed_len, input_length=maxlen),\n",
    "    Bidirectional(LSTM(100)),\n",
    "    Dropout(0.5),\n",
    "    Dense(64, activation='leaky_relu'),\n",
    "    Dropout(0.5),\n",
    "    Dense(64, activation='relu'),\n",
    "    Dropout(0.5),\n",
    "    Dense(6, activation='softmax')\n",
    "])\n",
    "\n",
    "model.compile(loss='binary_crossentropy', optimizer='adam', metrics=[AUC(), Precision(), Recall(), 'accuracy'])\n",
    "model.summary()"
   ]
  },
  {
   "cell_type": "code",
   "execution_count": 66,
   "metadata": {},
   "outputs": [],
   "source": [
    "encoder = LabelEncoder()\n",
    "encoder.fit(data_train['label'])\n",
    "y_train = encoder.transform(data_train['label'])\n",
    "y_test = encoder.transform(data_test['label'])\n",
    "y_train_enc = to_categorical(y_train)\n",
    "y_test_enc = to_categorical(y_test)\n"
   ]
  },
  {
   "cell_type": "code",
   "execution_count": 67,
   "metadata": {},
   "outputs": [
    {
     "name": "stdout",
     "output_type": "stream",
     "text": [
      "Epoch 1/100\n",
      "200/200 [==============================] - 10s 38ms/step - loss: 0.4606 - auc_6: 0.6749 - precision_6: 0.3303 - recall_6: 0.0483 - accuracy: 0.2938 - val_loss: 0.3971 - val_auc_6: 0.7674 - val_precision_6: 0.0000e+00 - val_recall_6: 0.0000e+00 - val_accuracy: 0.3262 - lr: 0.0010\n",
      "Epoch 2/100\n",
      "200/200 [==============================] - 3s 13ms/step - loss: 0.3654 - auc_6: 0.8162 - precision_6: 0.5462 - recall_6: 0.2291 - accuracy: 0.4067 - val_loss: 0.2959 - val_auc_6: 0.8952 - val_precision_6: 0.8231 - val_recall_6: 0.4494 - val_accuracy: 0.6269 - lr: 9.0000e-04\n",
      "Epoch 3/100\n",
      "200/200 [==============================] - 2s 11ms/step - loss: 0.2198 - auc_6: 0.9395 - precision_6: 0.8411 - recall_6: 0.6189 - accuracy: 0.7114 - val_loss: 0.1840 - val_auc_6: 0.9511 - val_precision_6: 0.8757 - val_recall_6: 0.6938 - val_accuracy: 0.7909 - lr: 8.1000e-04\n",
      "Epoch 4/100\n",
      "200/200 [==============================] - 2s 10ms/step - loss: 0.1356 - auc_6: 0.9769 - precision_6: 0.8937 - recall_6: 0.7829 - accuracy: 0.8313 - val_loss: 0.1491 - val_auc_6: 0.9673 - val_precision_6: 0.8872 - val_recall_6: 0.8209 - val_accuracy: 0.8500 - lr: 7.2900e-04\n",
      "Epoch 5/100\n",
      "200/200 [==============================] - 2s 10ms/step - loss: 0.0938 - auc_6: 0.9886 - precision_6: 0.9300 - recall_6: 0.8758 - accuracy: 0.9017 - val_loss: 0.1427 - val_auc_6: 0.9681 - val_precision_6: 0.8901 - val_recall_6: 0.8659 - val_accuracy: 0.8756 - lr: 6.5610e-04\n",
      "Epoch 6/100\n",
      "200/200 [==============================] - 2s 9ms/step - loss: 0.0648 - auc_6: 0.9924 - precision_6: 0.9504 - recall_6: 0.9300 - accuracy: 0.9395 - val_loss: 0.1393 - val_auc_6: 0.9705 - val_precision_6: 0.8898 - val_recall_6: 0.8731 - val_accuracy: 0.8791 - lr: 5.9049e-04\n",
      "Epoch 7/100\n",
      "200/200 [==============================] - 2s 8ms/step - loss: 0.0496 - auc_6: 0.9947 - precision_6: 0.9623 - recall_6: 0.9482 - accuracy: 0.9545 - val_loss: 0.1562 - val_auc_6: 0.9668 - val_precision_6: 0.8906 - val_recall_6: 0.8803 - val_accuracy: 0.8838 - lr: 5.3144e-04\n",
      "Epoch 8/100\n",
      "200/200 [==============================] - 2s 9ms/step - loss: 0.0391 - auc_6: 0.9958 - precision_6: 0.9709 - recall_6: 0.9612 - accuracy: 0.9654 - val_loss: 0.1630 - val_auc_6: 0.9643 - val_precision_6: 0.8862 - val_recall_6: 0.8734 - val_accuracy: 0.8778 - lr: 4.7830e-04\n",
      "Epoch 9/100\n",
      "200/200 [==============================] - 2s 8ms/step - loss: 0.0336 - auc_6: 0.9969 - precision_6: 0.9752 - recall_6: 0.9678 - accuracy: 0.9723 - val_loss: 0.1825 - val_auc_6: 0.9608 - val_precision_6: 0.8847 - val_recall_6: 0.8753 - val_accuracy: 0.8781 - lr: 4.3047e-04\n",
      "Epoch 10/100\n",
      "200/200 [==============================] - 2s 9ms/step - loss: 0.0340 - auc_6: 0.9966 - precision_6: 0.9746 - recall_6: 0.9672 - accuracy: 0.9704 - val_loss: 0.1754 - val_auc_6: 0.9593 - val_precision_6: 0.8863 - val_recall_6: 0.8772 - val_accuracy: 0.8794 - lr: 3.8742e-04\n",
      "Epoch 11/100\n",
      "200/200 [==============================] - 2s 9ms/step - loss: 0.0274 - auc_6: 0.9973 - precision_6: 0.9797 - recall_6: 0.9744 - accuracy: 0.9768 - val_loss: 0.1745 - val_auc_6: 0.9620 - val_precision_6: 0.8865 - val_recall_6: 0.8763 - val_accuracy: 0.8806 - lr: 3.4868e-04\n",
      "Epoch 12/100\n",
      "200/200 [==============================] - 2s 8ms/step - loss: 0.0252 - auc_6: 0.9973 - precision_6: 0.9815 - recall_6: 0.9764 - accuracy: 0.9791 - val_loss: 0.1826 - val_auc_6: 0.9608 - val_precision_6: 0.8887 - val_recall_6: 0.8788 - val_accuracy: 0.8809 - lr: 3.1381e-04\n",
      "Epoch 13/100\n",
      "200/200 [==============================] - 2s 8ms/step - loss: 0.0205 - auc_6: 0.9982 - precision_6: 0.9852 - recall_6: 0.9801 - accuracy: 0.9825 - val_loss: 0.1911 - val_auc_6: 0.9593 - val_precision_6: 0.8847 - val_recall_6: 0.8731 - val_accuracy: 0.8775 - lr: 2.8243e-04\n",
      "Epoch 14/100\n",
      "200/200 [==============================] - 2s 8ms/step - loss: 0.0198 - auc_6: 0.9981 - precision_6: 0.9859 - recall_6: 0.9827 - accuracy: 0.9843 - val_loss: 0.2041 - val_auc_6: 0.9571 - val_precision_6: 0.8849 - val_recall_6: 0.8766 - val_accuracy: 0.8788 - lr: 2.5419e-04\n",
      "Epoch 15/100\n",
      "200/200 [==============================] - 2s 8ms/step - loss: 0.0203 - auc_6: 0.9981 - precision_6: 0.9840 - recall_6: 0.9806 - accuracy: 0.9819 - val_loss: 0.2153 - val_auc_6: 0.9562 - val_precision_6: 0.8838 - val_recall_6: 0.8750 - val_accuracy: 0.8769 - lr: 2.2877e-04\n",
      "Epoch 16/100\n",
      "200/200 [==============================] - 2s 8ms/step - loss: 0.0174 - auc_6: 0.9982 - precision_6: 0.9869 - recall_6: 0.9835 - accuracy: 0.9855 - val_loss: 0.2274 - val_auc_6: 0.9547 - val_precision_6: 0.8837 - val_recall_6: 0.8759 - val_accuracy: 0.8772 - lr: 2.0589e-04\n"
     ]
    }
   ],
   "source": [
    "history = model.fit(pad_sequences_train, y_train_enc, \n",
    "          epochs=100, batch_size=64, \n",
    "          validation_split=0.2, \n",
    "          callbacks=[EarlyStopping(patience=10, restore_best_weights=True), LearningRateScheduler(lambda x: 1e-3 * 0.9 ** x)],\n",
    "          )"
   ]
  },
  {
   "cell_type": "code",
   "execution_count": 68,
   "metadata": {},
   "outputs": [
    {
     "data": {
      "text/plain": [
       "<Axes: title={'center': 'Loss'}>"
      ]
     },
     "execution_count": 68,
     "metadata": {},
     "output_type": "execute_result"
    },
    {
     "data": {
      "image/png": "[encoded data removed]",
      "text/plain": [
       "<Figure size 1500x1000 with 1 Axes>"
      ]
     },
     "metadata": {},
     "output_type": "display_data"
    }
   ],
   "source": [
    "history_df = pd.DataFrame(history.history)\n",
    "history_df[['loss', 'val_loss']].plot(figsize=(15, 10), title='Loss', legend=True)"
   ]
  },
  {
   "cell_type": "code",
   "execution_count": 70,
   "metadata": {},
   "outputs": [
    {
     "name": "stdout",
     "output_type": "stream",
     "text": [
      "63/63 [==============================] - 1s 3ms/step\n",
      "              precision    recall  f1-score   support\n",
      "\n",
      "           0       0.87      0.91      0.89       275\n",
      "           1       0.86      0.86      0.86       224\n",
      "           2       0.91      0.92      0.91       695\n",
      "           3       0.71      0.75      0.73       159\n",
      "           4       0.95      0.91      0.93       581\n",
      "           5       0.66      0.62      0.64        66\n",
      "\n",
      "    accuracy                           0.88      2000\n",
      "   macro avg       0.83      0.83      0.83      2000\n",
      "weighted avg       0.89      0.88      0.88      2000\n",
      "\n"
     ]
    }
   ],
   "source": [
    "print(classification_report(y_test, np.argmax(model.predict(pad_sequences_test), axis=1)))"
   ]
  },
  {
   "cell_type": "code",
   "execution_count": null,
   "metadata": {},
   "outputs": [],
   "source": []
  }
 ],
 "metadata": {
  "kernelspec": {
   "display_name": "env",
   "language": "python",
   "name": "python3"
  },
  "language_info": {
   "codemirror_mode": {
    "name": "ipython",
    "version": 3
   },
   "file_extension": ".py",
   "mimetype": "text/x-python",
   "name": "python",
   "nbconvert_exporter": "python",
   "pygments_lexer": "ipython3",
   "version": "3.11.7"
  }
 },
 "nbformat": 4,
 "nbformat_minor": 2
}
