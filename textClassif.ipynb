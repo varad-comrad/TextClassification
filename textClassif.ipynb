{
 "cells": [
  {
   "cell_type": "code",
   "execution_count": 1,
   "metadata": {},
   "outputs": [
    {
     "name": "stdout",
     "output_type": "stream",
     "text": [
      "Requirement already satisfied: spacy in ./textclassf/lib/python3.11/site-packages (3.7.2)\n",
      "Requirement already satisfied: scikit-learn in ./textclassf/lib/python3.11/site-packages (1.4.0)\n",
      "Requirement already satisfied: pandas in ./textclassf/lib/python3.11/site-packages (2.2.0)\n",
      "Requirement already satisfied: matplotlib in ./textclassf/lib/python3.11/site-packages (3.8.2)\n",
      "Requirement already satisfied: transformers in ./textclassf/lib/python3.11/site-packages (4.37.2)\n",
      "Requirement already satisfied: tensorflow[and-cuda] in ./textclassf/lib/python3.11/site-packages (2.15.0.post1)\n",
      "Requirement already satisfied: absl-py>=1.0.0 in ./textclassf/lib/python3.11/site-packages (from tensorflow[and-cuda]) (2.1.0)\n",
      "Requirement already satisfied: astunparse>=1.6.0 in ./textclassf/lib/python3.11/site-packages (from tensorflow[and-cuda]) (1.6.3)\n",
      "Requirement already satisfied: flatbuffers>=23.5.26 in ./textclassf/lib/python3.11/site-packages (from tensorflow[and-cuda]) (23.5.26)\n",
      "Requirement already satisfied: gast!=0.5.0,!=0.5.1,!=0.5.2,>=0.2.1 in ./textclassf/lib/python3.11/site-packages (from tensorflow[and-cuda]) (0.5.4)\n",
      "Requirement already satisfied: google-pasta>=0.1.1 in ./textclassf/lib/python3.11/site-packages (from tensorflow[and-cuda]) (0.2.0)\n",
      "Requirement already satisfied: h5py>=2.9.0 in ./textclassf/lib/python3.11/site-packages (from tensorflow[and-cuda]) (3.10.0)\n",
      "Requirement already satisfied: libclang>=13.0.0 in ./textclassf/lib/python3.11/site-packages (from tensorflow[and-cuda]) (16.0.6)\n",
      "Requirement already satisfied: ml-dtypes~=0.2.0 in ./textclassf/lib/python3.11/site-packages (from tensorflow[and-cuda]) (0.2.0)\n",
      "Requirement already satisfied: numpy<2.0.0,>=1.23.5 in ./textclassf/lib/python3.11/site-packages (from tensorflow[and-cuda]) (1.26.3)\n",
      "Requirement already satisfied: opt-einsum>=2.3.2 in ./textclassf/lib/python3.11/site-packages (from tensorflow[and-cuda]) (3.3.0)\n",
      "Requirement already satisfied: packaging in ./textclassf/lib/python3.11/site-packages (from tensorflow[and-cuda]) (23.2)\n",
      "Requirement already satisfied: protobuf!=4.21.0,!=4.21.1,!=4.21.2,!=4.21.3,!=4.21.4,!=4.21.5,<5.0.0dev,>=3.20.3 in ./textclassf/lib/python3.11/site-packages (from tensorflow[and-cuda]) (4.23.4)\n",
      "Requirement already satisfied: setuptools in ./textclassf/lib/python3.11/site-packages (from tensorflow[and-cuda]) (69.0.3)\n",
      "Requirement already satisfied: six>=1.12.0 in ./textclassf/lib/python3.11/site-packages (from tensorflow[and-cuda]) (1.16.0)\n",
      "Requirement already satisfied: termcolor>=1.1.0 in ./textclassf/lib/python3.11/site-packages (from tensorflow[and-cuda]) (2.4.0)\n",
      "Requirement already satisfied: typing-extensions>=3.6.6 in ./textclassf/lib/python3.11/site-packages (from tensorflow[and-cuda]) (4.9.0)\n",
      "Requirement already satisfied: wrapt<1.15,>=1.11.0 in ./textclassf/lib/python3.11/site-packages (from tensorflow[and-cuda]) (1.14.1)\n",
      "Requirement already satisfied: tensorflow-io-gcs-filesystem>=0.23.1 in ./textclassf/lib/python3.11/site-packages (from tensorflow[and-cuda]) (0.35.0)\n",
      "Requirement already satisfied: grpcio<2.0,>=1.24.3 in ./textclassf/lib/python3.11/site-packages (from tensorflow[and-cuda]) (1.60.0)\n",
      "Requirement already satisfied: tensorboard<2.16,>=2.15 in ./textclassf/lib/python3.11/site-packages (from tensorflow[and-cuda]) (2.15.1)\n",
      "Requirement already satisfied: tensorflow-estimator<2.16,>=2.15.0 in ./textclassf/lib/python3.11/site-packages (from tensorflow[and-cuda]) (2.15.0)\n",
      "Requirement already satisfied: keras<2.16,>=2.15.0 in ./textclassf/lib/python3.11/site-packages (from tensorflow[and-cuda]) (2.15.0)\n",
      "Requirement already satisfied: nvidia-cublas-cu12==12.2.5.6 in ./textclassf/lib/python3.11/site-packages (from tensorflow[and-cuda]) (12.2.5.6)\n",
      "Requirement already satisfied: nvidia-cuda-cupti-cu12==12.2.142 in ./textclassf/lib/python3.11/site-packages (from tensorflow[and-cuda]) (12.2.142)\n",
      "Requirement already satisfied: nvidia-cuda-nvcc-cu12==12.2.140 in ./textclassf/lib/python3.11/site-packages (from tensorflow[and-cuda]) (12.2.140)\n",
      "Requirement already satisfied: nvidia-cuda-nvrtc-cu12==12.2.140 in ./textclassf/lib/python3.11/site-packages (from tensorflow[and-cuda]) (12.2.140)\n",
      "Requirement already satisfied: nvidia-cuda-runtime-cu12==12.2.140 in ./textclassf/lib/python3.11/site-packages (from tensorflow[and-cuda]) (12.2.140)\n",
      "Requirement already satisfied: nvidia-cudnn-cu12==8.9.4.25 in ./textclassf/lib/python3.11/site-packages (from tensorflow[and-cuda]) (8.9.4.25)\n",
      "Requirement already satisfied: nvidia-cufft-cu12==11.0.8.103 in ./textclassf/lib/python3.11/site-packages (from tensorflow[and-cuda]) (11.0.8.103)\n",
      "Requirement already satisfied: nvidia-curand-cu12==10.3.3.141 in ./textclassf/lib/python3.11/site-packages (from tensorflow[and-cuda]) (10.3.3.141)\n",
      "Requirement already satisfied: nvidia-cusolver-cu12==11.5.2.141 in ./textclassf/lib/python3.11/site-packages (from tensorflow[and-cuda]) (11.5.2.141)\n",
      "Requirement already satisfied: nvidia-cusparse-cu12==12.1.2.141 in ./textclassf/lib/python3.11/site-packages (from tensorflow[and-cuda]) (12.1.2.141)\n",
      "Requirement already satisfied: nvidia-nccl-cu12==2.16.5 in ./textclassf/lib/python3.11/site-packages (from tensorflow[and-cuda]) (2.16.5)\n",
      "Requirement already satisfied: nvidia-nvjitlink-cu12==12.2.140 in ./textclassf/lib/python3.11/site-packages (from tensorflow[and-cuda]) (12.2.140)\n",
      "Requirement already satisfied: spacy-legacy<3.1.0,>=3.0.11 in ./textclassf/lib/python3.11/site-packages (from spacy) (3.0.12)\n",
      "Requirement already satisfied: spacy-loggers<2.0.0,>=1.0.0 in ./textclassf/lib/python3.11/site-packages (from spacy) (1.0.5)\n",
      "Requirement already satisfied: murmurhash<1.1.0,>=0.28.0 in ./textclassf/lib/python3.11/site-packages (from spacy) (1.0.10)\n",
      "Requirement already satisfied: cymem<2.1.0,>=2.0.2 in ./textclassf/lib/python3.11/site-packages (from spacy) (2.0.8)\n",
      "Requirement already satisfied: preshed<3.1.0,>=3.0.2 in ./textclassf/lib/python3.11/site-packages (from spacy) (3.0.9)\n",
      "Requirement already satisfied: thinc<8.3.0,>=8.1.8 in ./textclassf/lib/python3.11/site-packages (from spacy) (8.2.2)\n",
      "Requirement already satisfied: wasabi<1.2.0,>=0.9.1 in ./textclassf/lib/python3.11/site-packages (from spacy) (1.1.2)\n",
      "Requirement already satisfied: srsly<3.0.0,>=2.4.3 in ./textclassf/lib/python3.11/site-packages (from spacy) (2.4.8)\n",
      "Requirement already satisfied: catalogue<2.1.0,>=2.0.6 in ./textclassf/lib/python3.11/site-packages (from spacy) (2.0.10)\n",
      "Requirement already satisfied: weasel<0.4.0,>=0.1.0 in ./textclassf/lib/python3.11/site-packages (from spacy) (0.3.4)\n",
      "Requirement already satisfied: typer<0.10.0,>=0.3.0 in ./textclassf/lib/python3.11/site-packages (from spacy) (0.9.0)\n",
      "Requirement already satisfied: smart-open<7.0.0,>=5.2.1 in ./textclassf/lib/python3.11/site-packages (from spacy) (6.4.0)\n",
      "Requirement already satisfied: tqdm<5.0.0,>=4.38.0 in ./textclassf/lib/python3.11/site-packages (from spacy) (4.66.1)\n",
      "Requirement already satisfied: requests<3.0.0,>=2.13.0 in ./textclassf/lib/python3.11/site-packages (from spacy) (2.31.0)\n",
      "Requirement already satisfied: pydantic!=1.8,!=1.8.1,<3.0.0,>=1.7.4 in ./textclassf/lib/python3.11/site-packages (from spacy) (2.6.0)\n",
      "Requirement already satisfied: jinja2 in ./textclassf/lib/python3.11/site-packages (from spacy) (3.1.3)\n",
      "Requirement already satisfied: langcodes<4.0.0,>=3.2.0 in ./textclassf/lib/python3.11/site-packages (from spacy) (3.3.0)\n",
      "Requirement already satisfied: scipy>=1.6.0 in ./textclassf/lib/python3.11/site-packages (from scikit-learn) (1.12.0)\n",
      "Requirement already satisfied: joblib>=1.2.0 in ./textclassf/lib/python3.11/site-packages (from scikit-learn) (1.3.2)\n",
      "Requirement already satisfied: threadpoolctl>=2.0.0 in ./textclassf/lib/python3.11/site-packages (from scikit-learn) (3.2.0)\n",
      "Requirement already satisfied: python-dateutil>=2.8.2 in ./textclassf/lib/python3.11/site-packages (from pandas) (2.8.2)\n",
      "Requirement already satisfied: pytz>=2020.1 in ./textclassf/lib/python3.11/site-packages (from pandas) (2023.4)\n",
      "Requirement already satisfied: tzdata>=2022.7 in ./textclassf/lib/python3.11/site-packages (from pandas) (2023.4)\n",
      "Requirement already satisfied: contourpy>=1.0.1 in ./textclassf/lib/python3.11/site-packages (from matplotlib) (1.2.0)\n",
      "Requirement already satisfied: cycler>=0.10 in ./textclassf/lib/python3.11/site-packages (from matplotlib) (0.12.1)\n",
      "Requirement already satisfied: fonttools>=4.22.0 in ./textclassf/lib/python3.11/site-packages (from matplotlib) (4.47.2)\n",
      "Requirement already satisfied: kiwisolver>=1.3.1 in ./textclassf/lib/python3.11/site-packages (from matplotlib) (1.4.5)\n",
      "Requirement already satisfied: pillow>=8 in ./textclassf/lib/python3.11/site-packages (from matplotlib) (10.2.0)\n",
      "Requirement already satisfied: pyparsing>=2.3.1 in ./textclassf/lib/python3.11/site-packages (from matplotlib) (3.1.1)\n",
      "Requirement already satisfied: filelock in ./textclassf/lib/python3.11/site-packages (from transformers) (3.13.1)\n",
      "Requirement already satisfied: huggingface-hub<1.0,>=0.19.3 in ./textclassf/lib/python3.11/site-packages (from transformers) (0.20.3)\n",
      "Requirement already satisfied: pyyaml>=5.1 in ./textclassf/lib/python3.11/site-packages (from transformers) (6.0.1)\n",
      "Requirement already satisfied: regex!=2019.12.17 in ./textclassf/lib/python3.11/site-packages (from transformers) (2023.12.25)\n",
      "Requirement already satisfied: tokenizers<0.19,>=0.14 in ./textclassf/lib/python3.11/site-packages (from transformers) (0.15.1)\n",
      "Requirement already satisfied: safetensors>=0.4.1 in ./textclassf/lib/python3.11/site-packages (from transformers) (0.4.2)\n",
      "Requirement already satisfied: wheel<1.0,>=0.23.0 in ./textclassf/lib/python3.11/site-packages (from astunparse>=1.6.0->tensorflow[and-cuda]) (0.42.0)\n",
      "Requirement already satisfied: fsspec>=2023.5.0 in ./textclassf/lib/python3.11/site-packages (from huggingface-hub<1.0,>=0.19.3->transformers) (2023.12.2)\n",
      "Requirement already satisfied: annotated-types>=0.4.0 in ./textclassf/lib/python3.11/site-packages (from pydantic!=1.8,!=1.8.1,<3.0.0,>=1.7.4->spacy) (0.6.0)\n",
      "Requirement already satisfied: pydantic-core==2.16.1 in ./textclassf/lib/python3.11/site-packages (from pydantic!=1.8,!=1.8.1,<3.0.0,>=1.7.4->spacy) (2.16.1)\n",
      "Requirement already satisfied: charset-normalizer<4,>=2 in ./textclassf/lib/python3.11/site-packages (from requests<3.0.0,>=2.13.0->spacy) (3.3.2)\n",
      "Requirement already satisfied: idna<4,>=2.5 in ./textclassf/lib/python3.11/site-packages (from requests<3.0.0,>=2.13.0->spacy) (3.6)\n",
      "Requirement already satisfied: urllib3<3,>=1.21.1 in ./textclassf/lib/python3.11/site-packages (from requests<3.0.0,>=2.13.0->spacy) (2.2.0)\n",
      "Requirement already satisfied: certifi>=2017.4.17 in ./textclassf/lib/python3.11/site-packages (from requests<3.0.0,>=2.13.0->spacy) (2023.11.17)\n",
      "Requirement already satisfied: google-auth<3,>=1.6.3 in ./textclassf/lib/python3.11/site-packages (from tensorboard<2.16,>=2.15->tensorflow[and-cuda]) (2.27.0)\n",
      "Requirement already satisfied: google-auth-oauthlib<2,>=0.5 in ./textclassf/lib/python3.11/site-packages (from tensorboard<2.16,>=2.15->tensorflow[and-cuda]) (1.2.0)\n",
      "Requirement already satisfied: markdown>=2.6.8 in ./textclassf/lib/python3.11/site-packages (from tensorboard<2.16,>=2.15->tensorflow[and-cuda]) (3.5.2)\n",
      "Requirement already satisfied: tensorboard-data-server<0.8.0,>=0.7.0 in ./textclassf/lib/python3.11/site-packages (from tensorboard<2.16,>=2.15->tensorflow[and-cuda]) (0.7.2)\n",
      "Requirement already satisfied: werkzeug>=1.0.1 in ./textclassf/lib/python3.11/site-packages (from tensorboard<2.16,>=2.15->tensorflow[and-cuda]) (3.0.1)\n",
      "Requirement already satisfied: blis<0.8.0,>=0.7.8 in ./textclassf/lib/python3.11/site-packages (from thinc<8.3.0,>=8.1.8->spacy) (0.7.11)\n",
      "Requirement already satisfied: confection<1.0.0,>=0.0.1 in ./textclassf/lib/python3.11/site-packages (from thinc<8.3.0,>=8.1.8->spacy) (0.1.4)\n",
      "Requirement already satisfied: click<9.0.0,>=7.1.1 in ./textclassf/lib/python3.11/site-packages (from typer<0.10.0,>=0.3.0->spacy) (8.1.7)\n",
      "Requirement already satisfied: cloudpathlib<0.17.0,>=0.7.0 in ./textclassf/lib/python3.11/site-packages (from weasel<0.4.0,>=0.1.0->spacy) (0.16.0)\n",
      "Requirement already satisfied: MarkupSafe>=2.0 in ./textclassf/lib/python3.11/site-packages (from jinja2->spacy) (2.1.4)\n",
      "Requirement already satisfied: cachetools<6.0,>=2.0.0 in ./textclassf/lib/python3.11/site-packages (from google-auth<3,>=1.6.3->tensorboard<2.16,>=2.15->tensorflow[and-cuda]) (5.3.2)\n",
      "Requirement already satisfied: pyasn1-modules>=0.2.1 in ./textclassf/lib/python3.11/site-packages (from google-auth<3,>=1.6.3->tensorboard<2.16,>=2.15->tensorflow[and-cuda]) (0.3.0)\n",
      "Requirement already satisfied: rsa<5,>=3.1.4 in ./textclassf/lib/python3.11/site-packages (from google-auth<3,>=1.6.3->tensorboard<2.16,>=2.15->tensorflow[and-cuda]) (4.9)\n",
      "Requirement already satisfied: requests-oauthlib>=0.7.0 in ./textclassf/lib/python3.11/site-packages (from google-auth-oauthlib<2,>=0.5->tensorboard<2.16,>=2.15->tensorflow[and-cuda]) (1.3.1)\n",
      "Requirement already satisfied: pyasn1<0.6.0,>=0.4.6 in ./textclassf/lib/python3.11/site-packages (from pyasn1-modules>=0.2.1->google-auth<3,>=1.6.3->tensorboard<2.16,>=2.15->tensorflow[and-cuda]) (0.5.1)\n",
      "Requirement already satisfied: oauthlib>=3.0.0 in ./textclassf/lib/python3.11/site-packages (from requests-oauthlib>=0.7.0->google-auth-oauthlib<2,>=0.5->tensorboard<2.16,>=2.15->tensorflow[and-cuda]) (3.2.2)\n",
      "Note: you may need to restart the kernel to use updated packages.\n"
     ]
    }
   ],
   "source": [
    "%pip install 'tensorflow[and-cuda]' spacy scikit-learn pandas matplotlib transformers"
   ]
  },
  {
   "cell_type": "code",
   "execution_count": 2,
   "metadata": {},
   "outputs": [
    {
     "name": "stderr",
     "output_type": "stream",
     "text": [
      "2024-01-31 11:53:28.655445: I tensorflow/core/util/port.cc:113] oneDNN custom operations are on. You may see slightly different numerical results due to floating-point round-off errors from different computation orders. To turn them off, set the environment variable `TF_ENABLE_ONEDNN_OPTS=0`.\n",
      "2024-01-31 11:53:28.689495: E external/local_xla/xla/stream_executor/cuda/cuda_dnn.cc:9261] Unable to register cuDNN factory: Attempting to register factory for plugin cuDNN when one has already been registered\n",
      "2024-01-31 11:53:28.689532: E external/local_xla/xla/stream_executor/cuda/cuda_fft.cc:607] Unable to register cuFFT factory: Attempting to register factory for plugin cuFFT when one has already been registered\n",
      "2024-01-31 11:53:28.690687: E external/local_xla/xla/stream_executor/cuda/cuda_blas.cc:1515] Unable to register cuBLAS factory: Attempting to register factory for plugin cuBLAS when one has already been registered\n",
      "2024-01-31 11:53:28.696954: I tensorflow/core/platform/cpu_feature_guard.cc:182] This TensorFlow binary is optimized to use available CPU instructions in performance-critical operations.\n",
      "To enable the following instructions: AVX2 AVX512F AVX512_VNNI FMA, in other operations, rebuild TensorFlow with the appropriate compiler flags.\n",
      "2024-01-31 11:53:29.429466: W tensorflow/compiler/tf2tensorrt/utils/py_utils.cc:38] TF-TRT Warning: Could not find TensorRT\n",
      "/home/fabricio/Documents/programs/tutorials/DSA/AI-Engineer/1deep-learning/project2_2/textclassf/lib/python3.11/site-packages/tqdm/auto.py:21: TqdmWarning: IProgress not found. Please update jupyter and ipywidgets. See https://ipywidgets.readthedocs.io/en/stable/user_install.html\n",
      "  from .autonotebook import tqdm as notebook_tqdm\n"
     ]
    }
   ],
   "source": [
    "from keras.callbacks import EarlyStopping, LearningRateScheduler, CallbackList, ReduceLROnPlateau\n",
    "from keras.layers import Embedding, LSTM, Dense, Dropout, Bidirectional\n",
    "from keras.metrics import Precision, Recall, AUC\n",
    "from keras.preprocessing.sequence import pad_sequences\n",
    "from keras.preprocessing.text import Tokenizer\n",
    "from keras import Sequential\n",
    "from keras.utils import to_categorical\n",
    "from tensorflow import keras\n",
    "from sklearn.utils.class_weight import compute_class_weight\n",
    "from sklearn.metrics import confusion_matrix, classification_report, accuracy_score\n",
    "from sklearn.model_selection import train_test_split\n",
    "from sklearn.feature_extraction.text import TfidfVectorizer\n",
    "from sklearn.preprocessing import LabelEncoder\n",
    "from tokenizers import BertWordPieceTokenizer\n",
    "import transformers\n",
    "import matplotlib.pyplot as plt\n",
    "import tensorflow as tf\n",
    "import pandas as pd\n",
    "import numpy as np\n",
    "import spacy\n",
    "import math\n",
    "import warnings\n",
    "warnings.filterwarnings('ignore')\n",
    "\n"
   ]
  },
  {
   "cell_type": "code",
   "execution_count": 3,
   "metadata": {},
   "outputs": [
    {
     "name": "stdout",
     "output_type": "stream",
     "text": [
      "env: TOKENIZERS_PARALLELISM=true\n"
     ]
    }
   ],
   "source": [
    "%env TOKENIZERS_PARALLELISM=true"
   ]
  },
  {
   "cell_type": "code",
   "execution_count": 4,
   "metadata": {},
   "outputs": [
    {
     "name": "stdout",
     "output_type": "stream",
     "text": [
      "[PhysicalDevice(name='/physical_device:GPU:0', device_type='GPU')]\n"
     ]
    },
    {
     "name": "stderr",
     "output_type": "stream",
     "text": [
      "2024-01-31 11:53:32.786099: I external/local_xla/xla/stream_executor/cuda/cuda_executor.cc:901] successful NUMA node read from SysFS had negative value (-1), but there must be at least one NUMA node, so returning NUMA node zero. See more at https://github.com/torvalds/linux/blob/v6.0/Documentation/ABI/testing/sysfs-bus-pci#L344-L355\n",
      "2024-01-31 11:53:32.827719: I external/local_xla/xla/stream_executor/cuda/cuda_executor.cc:901] successful NUMA node read from SysFS had negative value (-1), but there must be at least one NUMA node, so returning NUMA node zero. See more at https://github.com/torvalds/linux/blob/v6.0/Documentation/ABI/testing/sysfs-bus-pci#L344-L355\n",
      "2024-01-31 11:53:32.827929: I external/local_xla/xla/stream_executor/cuda/cuda_executor.cc:901] successful NUMA node read from SysFS had negative value (-1), but there must be at least one NUMA node, so returning NUMA node zero. See more at https://github.com/torvalds/linux/blob/v6.0/Documentation/ABI/testing/sysfs-bus-pci#L344-L355\n"
     ]
    }
   ],
   "source": [
    "print(tf.config.list_physical_devices('GPU'))"
   ]
  },
  {
   "cell_type": "code",
   "execution_count": 5,
   "metadata": {},
   "outputs": [
    {
     "data": {
      "text/html": [
       "<div>\n",
       "<style scoped>\n",
       "    .dataframe tbody tr th:only-of-type {\n",
       "        vertical-align: middle;\n",
       "    }\n",
       "\n",
       "    .dataframe tbody tr th {\n",
       "        vertical-align: top;\n",
       "    }\n",
       "\n",
       "    .dataframe thead th {\n",
       "        text-align: right;\n",
       "    }\n",
       "</style>\n",
       "<table border=\"1\" class=\"dataframe\">\n",
       "  <thead>\n",
       "    <tr style=\"text-align: right;\">\n",
       "      <th></th>\n",
       "      <th>text</th>\n",
       "      <th>label</th>\n",
       "    </tr>\n",
       "  </thead>\n",
       "  <tbody>\n",
       "    <tr>\n",
       "      <th>0</th>\n",
       "      <td>i feel like my only role now would be to tear ...</td>\n",
       "      <td>sadness</td>\n",
       "    </tr>\n",
       "    <tr>\n",
       "      <th>1</th>\n",
       "      <td>i feel just bcoz a fight we get mad to each ot...</td>\n",
       "      <td>anger</td>\n",
       "    </tr>\n",
       "    <tr>\n",
       "      <th>2</th>\n",
       "      <td>i feel like reds and purples are just so rich ...</td>\n",
       "      <td>joy</td>\n",
       "    </tr>\n",
       "    <tr>\n",
       "      <th>3</th>\n",
       "      <td>im not sure the feeling of loss will ever go a...</td>\n",
       "      <td>sadness</td>\n",
       "    </tr>\n",
       "    <tr>\n",
       "      <th>4</th>\n",
       "      <td>i feel like ive gotten to know many of you thr...</td>\n",
       "      <td>joy</td>\n",
       "    </tr>\n",
       "  </tbody>\n",
       "</table>\n",
       "</div>"
      ],
      "text/plain": [
       "                                                text    label\n",
       "0  i feel like my only role now would be to tear ...  sadness\n",
       "1  i feel just bcoz a fight we get mad to each ot...    anger\n",
       "2  i feel like reds and purples are just so rich ...      joy\n",
       "3  im not sure the feeling of loss will ever go a...  sadness\n",
       "4  i feel like ive gotten to know many of you thr...      joy"
      ]
     },
     "execution_count": 5,
     "metadata": {},
     "output_type": "execute_result"
    }
   ],
   "source": [
    "data_test = pd.read_csv('dados_teste.txt', sep=';', header=None)\n",
    "data_train = pd.read_csv('dados_treino.txt', sep=';', header=None)\n",
    "data_test.columns = ['text', 'label']\n",
    "data_train.columns = ['text', 'label']\n",
    "data_test.head()"
   ]
  },
  {
   "cell_type": "code",
   "execution_count": 6,
   "metadata": {},
   "outputs": [
    {
     "name": "stdout",
     "output_type": "stream",
     "text": [
      "shape train data: (16000, 2)\n",
      "shape test data: (2000, 2)\n"
     ]
    }
   ],
   "source": [
    "print('shape train data: {}\\nshape test data: {}'.format(\n",
    "    data_train.shape, data_test.shape))"
   ]
  },
  {
   "cell_type": "code",
   "execution_count": 7,
   "metadata": {},
   "outputs": [
    {
     "data": {
      "text/plain": [
       "label\n",
       "joy         5362\n",
       "sadness     4666\n",
       "anger       2159\n",
       "fear        1937\n",
       "love        1304\n",
       "surprise     572\n",
       "Name: count, dtype: int64"
      ]
     },
     "execution_count": 7,
     "metadata": {},
     "output_type": "execute_result"
    }
   ],
   "source": [
    "data_train['label'].value_counts()"
   ]
  },
  {
   "cell_type": "code",
   "execution_count": 8,
   "metadata": {},
   "outputs": [
    {
     "data": {
      "text/plain": [
       "label\n",
       "joy         695\n",
       "sadness     581\n",
       "anger       275\n",
       "fear        224\n",
       "love        159\n",
       "surprise     66\n",
       "Name: count, dtype: int64"
      ]
     },
     "execution_count": 8,
     "metadata": {},
     "output_type": "execute_result"
    }
   ],
   "source": [
    "data_test['label'].value_counts()"
   ]
  },
  {
   "cell_type": "code",
   "execution_count": 9,
   "metadata": {},
   "outputs": [
    {
     "name": "stdout",
     "output_type": "stream",
     "text": [
      "\u001b[38;5;2m✔ Download and installation successful\u001b[0m\n",
      "You can now load the package via spacy.load('en_core_web_md')\n"
     ]
    }
   ],
   "source": [
    "!python -m spacy download en_core_web_md -q"
   ]
  },
  {
   "cell_type": "code",
   "execution_count": 10,
   "metadata": {},
   "outputs": [],
   "source": [
    "nlp = spacy.load('en_core_web_md')\n",
    "\n",
    "\n",
    "def process_text(text: str) -> str:\n",
    "    doc = nlp(text)\n",
    "    tokens = [token.lemma_.lower().strip()\n",
    "              for token in doc if not token.is_stop]\n",
    "    return ' '.join(tokens)"
   ]
  },
  {
   "cell_type": "code",
   "execution_count": 11,
   "metadata": {},
   "outputs": [],
   "source": [
    "data_train['processed_text'] = data_train['text'].apply(process_text)\n",
    "data_test['processed_text'] = data_test['text'].apply(process_text)"
   ]
  },
  {
   "cell_type": "code",
   "execution_count": 12,
   "metadata": {},
   "outputs": [
    {
     "name": "stdout",
     "output_type": "stream",
     "text": [
      "                                                text    label  \\\n",
      "0  i feel like my only role now would be to tear ...  sadness   \n",
      "1  i feel just bcoz a fight we get mad to each ot...    anger   \n",
      "2  i feel like reds and purples are just so rich ...      joy   \n",
      "3  im not sure the feeling of loss will ever go a...  sadness   \n",
      "4  i feel like ive gotten to know many of you thr...      joy   \n",
      "\n",
      "                                      processed_text  \n",
      "0      feel like role tear sail pessimism discontent  \n",
      "1  feel bcoz fight mad n u wanna publicity n let ...  \n",
      "2             feel like red purple rich kind perfect  \n",
      "3  m sure feeling loss away dull sweet feeling no...  \n",
      "4  feel like ve get know comment email m apprecia...  \n",
      "                                                text    label  \\\n",
      "0  i am feeling completely overwhelmed i have two...     fear   \n",
      "1    i have the feeling she was amused and delighted      joy   \n",
      "2  i was able to help chai lifeline with your sup...      joy   \n",
      "3  i already feel like i fucked up though because...    anger   \n",
      "4  i still love my so and wish the best for him i...  sadness   \n",
      "\n",
      "                                      processed_text  \n",
      "0  feel completely overwhelmed strategy help feel...  \n",
      "1                              feeling amuse delight  \n",
      "2  able help chai lifeline support encouragement ...  \n",
      "3             feel like fuck not usually eat morning  \n",
      "4  love wish good long tolerate effect bm life fa...  \n"
     ]
    }
   ],
   "source": [
    "print(data_test.head())\n",
    "print(data_train.head())"
   ]
  },
  {
   "cell_type": "code",
   "execution_count": 13,
   "metadata": {},
   "outputs": [
    {
     "name": "stdout",
     "output_type": "stream",
     "text": [
      "vocab size: 11897\n"
     ]
    }
   ],
   "source": [
    "tokenizer = Tokenizer()\n",
    "tokenizer.fit_on_texts(data_train['processed_text'])\n",
    "vocab_size = len(tokenizer.word_index) + 1\n",
    "print('vocab size: {}'.format(vocab_size))\n"
   ]
  },
  {
   "cell_type": "code",
   "execution_count": 14,
   "metadata": {},
   "outputs": [],
   "source": [
    "maxlen = 100\n",
    "embed_len = 100"
   ]
  },
  {
   "cell_type": "code",
   "execution_count": 15,
   "metadata": {},
   "outputs": [],
   "source": [
    "sequence_train = tokenizer.texts_to_sequences(data_train['processed_text'])\n",
    "sequence_test = tokenizer.texts_to_sequences(data_test['processed_text'])\n",
    "pad_sequences_train = pad_sequences(sequence_train, maxlen=maxlen, truncating='post')\n",
    "pad_sequences_test = pad_sequences(sequence_test, maxlen=maxlen, truncating='post')"
   ]
  },
  {
   "cell_type": "code",
   "execution_count": 16,
   "metadata": {},
   "outputs": [
    {
     "name": "stderr",
     "output_type": "stream",
     "text": [
      "2024-01-31 11:55:30.203571: I external/local_xla/xla/stream_executor/cuda/cuda_executor.cc:901] successful NUMA node read from SysFS had negative value (-1), but there must be at least one NUMA node, so returning NUMA node zero. See more at https://github.com/torvalds/linux/blob/v6.0/Documentation/ABI/testing/sysfs-bus-pci#L344-L355\n",
      "2024-01-31 11:55:30.203840: I external/local_xla/xla/stream_executor/cuda/cuda_executor.cc:901] successful NUMA node read from SysFS had negative value (-1), but there must be at least one NUMA node, so returning NUMA node zero. See more at https://github.com/torvalds/linux/blob/v6.0/Documentation/ABI/testing/sysfs-bus-pci#L344-L355\n",
      "2024-01-31 11:55:30.203933: I external/local_xla/xla/stream_executor/cuda/cuda_executor.cc:901] successful NUMA node read from SysFS had negative value (-1), but there must be at least one NUMA node, so returning NUMA node zero. See more at https://github.com/torvalds/linux/blob/v6.0/Documentation/ABI/testing/sysfs-bus-pci#L344-L355\n",
      "2024-01-31 11:55:31.098659: I external/local_xla/xla/stream_executor/cuda/cuda_executor.cc:901] successful NUMA node read from SysFS had negative value (-1), but there must be at least one NUMA node, so returning NUMA node zero. See more at https://github.com/torvalds/linux/blob/v6.0/Documentation/ABI/testing/sysfs-bus-pci#L344-L355\n",
      "2024-01-31 11:55:31.099055: I external/local_xla/xla/stream_executor/cuda/cuda_executor.cc:901] successful NUMA node read from SysFS had negative value (-1), but there must be at least one NUMA node, so returning NUMA node zero. See more at https://github.com/torvalds/linux/blob/v6.0/Documentation/ABI/testing/sysfs-bus-pci#L344-L355\n",
      "2024-01-31 11:55:31.099187: I external/local_xla/xla/stream_executor/cuda/cuda_executor.cc:901] successful NUMA node read from SysFS had negative value (-1), but there must be at least one NUMA node, so returning NUMA node zero. See more at https://github.com/torvalds/linux/blob/v6.0/Documentation/ABI/testing/sysfs-bus-pci#L344-L355\n",
      "2024-01-31 11:55:31.099292: I tensorflow/core/common_runtime/gpu/gpu_device.cc:1929] Created device /job:localhost/replica:0/task:0/device:GPU:0 with 4097 MB memory:  -> device: 0, name: NVIDIA GeForce RTX 3060 Laptop GPU, pci bus id: 0000:01:00.0, compute capability: 8.6\n",
      "2024-01-31 11:55:31.235473: I external/local_tsl/tsl/platform/default/subprocess.cc:304] Start cannot spawn child process: No such file or directory\n"
     ]
    },
    {
     "name": "stdout",
     "output_type": "stream",
     "text": [
      "Model: \"sequential\"\n",
      "_________________________________________________________________\n",
      " Layer (type)                Output Shape              Param #   \n",
      "=================================================================\n",
      " embedding (Embedding)       (None, 100, 100)          1189700   \n",
      "                                                                 \n",
      " bidirectional (Bidirection  (None, 100, 200)          160800    \n",
      " al)                                                             \n",
      "                                                                 \n",
      " bidirectional_1 (Bidirecti  (None, 100)               100400    \n",
      " onal)                                                           \n",
      "                                                                 \n",
      " dropout (Dropout)           (None, 100)               0         \n",
      "                                                                 \n",
      " dense (Dense)               (None, 64)                6464      \n",
      "                                                                 \n",
      " dropout_1 (Dropout)         (None, 64)                0         \n",
      "                                                                 \n",
      " dense_1 (Dense)             (None, 64)                4160      \n",
      "                                                                 \n",
      " dropout_2 (Dropout)         (None, 64)                0         \n",
      "                                                                 \n",
      " dense_2 (Dense)             (None, 6)                 390       \n",
      "                                                                 \n",
      "=================================================================\n",
      "Total params: 1461914 (5.58 MB)\n",
      "Trainable params: 1461914 (5.58 MB)\n",
      "Non-trainable params: 0 (0.00 Byte)\n",
      "_________________________________________________________________\n"
     ]
    }
   ],
   "source": [
    "model = Sequential([\n",
    "    Embedding(vocab_size, embed_len, input_length=maxlen),\n",
    "    Bidirectional(LSTM(100, return_sequences=True)),\n",
    "    Bidirectional(LSTM(50)),\n",
    "    Dropout(0.5),\n",
    "    Dense(64, activation='leaky_relu'),\n",
    "    Dropout(0.5),\n",
    "    Dense(64, activation='relu'),\n",
    "    Dropout(0.5),\n",
    "    Dense(6, activation='softmax')\n",
    "])\n",
    "\n",
    "model.compile(loss='binary_crossentropy', optimizer='adam', metrics=[AUC(), Precision(), Recall(), 'accuracy'])\n",
    "model.summary()"
   ]
  },
  {
   "cell_type": "code",
   "execution_count": 17,
   "metadata": {},
   "outputs": [],
   "source": [
    "encoder = LabelEncoder()\n",
    "encoder.fit(data_train['label'])\n",
    "y_train = encoder.transform(data_train['label'])\n",
    "y_test = encoder.transform(data_test['label'])\n",
    "y_train_enc = to_categorical(y_train)\n",
    "y_test_enc = to_categorical(y_test)\n"
   ]
  },
  {
   "cell_type": "code",
   "execution_count": 18,
   "metadata": {},
   "outputs": [
    {
     "data": {
      "text/plain": [
       "<tf.Variable 'UnreadVariable' shape=(6,) dtype=float32, numpy=\n",
       "array([1.2351397 , 1.3766993 , 0.49732688, 2.0449898 , 0.5715102 ,\n",
       "       4.6620045 ], dtype=float32)>"
      ]
     },
     "execution_count": 18,
     "metadata": {},
     "output_type": "execute_result"
    }
   ],
   "source": [
    "model.layers[-1].bias.assign(compute_class_weight('balanced', classes= np.unique(y_train),y= y_train))"
   ]
  },
  {
   "cell_type": "code",
   "execution_count": 19,
   "metadata": {},
   "outputs": [
    {
     "name": "stdout",
     "output_type": "stream",
     "text": [
      "Epoch 1/100\n"
     ]
    },
    {
     "name": "stderr",
     "output_type": "stream",
     "text": [
      "2024-01-31 11:55:36.974675: I external/local_xla/xla/stream_executor/cuda/cuda_dnn.cc:454] Loaded cuDNN version 8904\n",
      "2024-01-31 11:55:38.762473: I external/local_xla/xla/service/service.cc:168] XLA service 0x7f1808273910 initialized for platform CUDA (this does not guarantee that XLA will be used). Devices:\n",
      "2024-01-31 11:55:38.762497: I external/local_xla/xla/service/service.cc:176]   StreamExecutor device (0): NVIDIA GeForce RTX 3060 Laptop GPU, Compute Capability 8.6\n",
      "2024-01-31 11:55:38.767578: I tensorflow/compiler/mlir/tensorflow/utils/dump_mlir_util.cc:269] disabling MLIR crash reproducer, set env var `MLIR_CRASH_REPRODUCER_DIRECTORY` to enable.\n",
      "WARNING: All log messages before absl::InitializeLog() is called are written to STDERR\n",
      "I0000 00:00:1706712938.849835   12527 device_compiler.h:186] Compiled cluster using XLA!  This line is logged at most once for the lifetime of the process.\n"
     ]
    },
    {
     "name": "stdout",
     "output_type": "stream",
     "text": [
      "200/200 [==============================] - 22s 72ms/step - loss: 0.6147 - auc: 0.5975 - precision: 0.2452 - recall: 0.1296 - accuracy: 0.2386 - val_loss: 0.4082 - val_auc: 0.7166 - val_precision: 0.0000e+00 - val_recall: 0.0000e+00 - val_accuracy: 0.3262 - lr: 0.0010\n",
      "Epoch 2/100\n",
      "200/200 [==============================] - 5s 26ms/step - loss: 0.4677 - auc: 0.6818 - precision: 0.3209 - recall: 0.0984 - accuracy: 0.2923 - val_loss: 0.4081 - val_auc: 0.7282 - val_precision: 0.0000e+00 - val_recall: 0.0000e+00 - val_accuracy: 0.3262 - lr: 9.0000e-04\n",
      "Epoch 3/100\n",
      "200/200 [==============================] - 4s 22ms/step - loss: 0.4418 - auc: 0.7175 - precision: 0.4057 - recall: 0.1147 - accuracy: 0.3220 - val_loss: 0.3835 - val_auc: 0.7919 - val_precision: 0.6796 - val_recall: 0.1200 - val_accuracy: 0.3516 - lr: 8.1000e-04\n",
      "Epoch 4/100\n",
      "200/200 [==============================] - 3s 17ms/step - loss: 0.3877 - auc: 0.7983 - precision: 0.5412 - recall: 0.2438 - accuracy: 0.3903 - val_loss: 0.3341 - val_auc: 0.8501 - val_precision: 0.5876 - val_recall: 0.2703 - val_accuracy: 0.4569 - lr: 7.2900e-04\n",
      "Epoch 5/100\n",
      "200/200 [==============================] - 4s 18ms/step - loss: 0.3296 - auc: 0.8651 - precision: 0.6711 - recall: 0.3806 - accuracy: 0.5248 - val_loss: 0.2787 - val_auc: 0.9017 - val_precision: 0.7571 - val_recall: 0.5172 - val_accuracy: 0.6438 - lr: 6.5610e-04\n",
      "Epoch 6/100\n",
      "200/200 [==============================] - 4s 20ms/step - loss: 0.2668 - auc: 0.9139 - precision: 0.7970 - recall: 0.5574 - accuracy: 0.6469 - val_loss: 0.2340 - val_auc: 0.9232 - val_precision: 0.8525 - val_recall: 0.5381 - val_accuracy: 0.6603 - lr: 5.9049e-04\n",
      "Epoch 7/100\n",
      "200/200 [==============================] - 3s 16ms/step - loss: 0.2141 - auc: 0.9420 - precision: 0.8649 - recall: 0.6156 - accuracy: 0.7078 - val_loss: 0.2234 - val_auc: 0.9309 - val_precision: 0.8895 - val_recall: 0.5612 - val_accuracy: 0.7181 - lr: 5.3144e-04\n",
      "Epoch 8/100\n",
      "200/200 [==============================] - 3s 17ms/step - loss: 0.1803 - auc: 0.9611 - precision: 0.8801 - recall: 0.6715 - accuracy: 0.7595 - val_loss: 0.2176 - val_auc: 0.9389 - val_precision: 0.8183 - val_recall: 0.6853 - val_accuracy: 0.7366 - lr: 4.7830e-04\n",
      "Epoch 9/100\n",
      "200/200 [==============================] - 3s 16ms/step - loss: 0.1573 - auc: 0.9712 - precision: 0.8733 - recall: 0.7359 - accuracy: 0.7999 - val_loss: 0.2045 - val_auc: 0.9472 - val_precision: 0.8346 - val_recall: 0.7678 - val_accuracy: 0.7981 - lr: 4.3047e-04\n",
      "Epoch 10/100\n",
      "200/200 [==============================] - 3s 16ms/step - loss: 0.1351 - auc: 0.9795 - precision: 0.8901 - recall: 0.8052 - accuracy: 0.8489 - val_loss: 0.2036 - val_auc: 0.9483 - val_precision: 0.8383 - val_recall: 0.7875 - val_accuracy: 0.8109 - lr: 3.8742e-04\n",
      "Epoch 11/100\n",
      "200/200 [==============================] - 3s 16ms/step - loss: 0.1121 - auc: 0.9850 - precision: 0.9064 - recall: 0.8537 - accuracy: 0.8859 - val_loss: 0.1964 - val_auc: 0.9509 - val_precision: 0.8420 - val_recall: 0.8109 - val_accuracy: 0.8259 - lr: 3.4868e-04\n",
      "Epoch 12/100\n",
      "200/200 [==============================] - 3s 16ms/step - loss: 0.1009 - auc: 0.9869 - precision: 0.9203 - recall: 0.8854 - accuracy: 0.9061 - val_loss: 0.1963 - val_auc: 0.9495 - val_precision: 0.8489 - val_recall: 0.8338 - val_accuracy: 0.8406 - lr: 3.1381e-04\n",
      "Epoch 13/100\n",
      "200/200 [==============================] - 3s 16ms/step - loss: 0.0841 - auc: 0.9900 - precision: 0.9431 - recall: 0.9195 - accuracy: 0.9352 - val_loss: 0.2195 - val_auc: 0.9449 - val_precision: 0.8459 - val_recall: 0.8388 - val_accuracy: 0.8419 - lr: 2.8243e-04\n",
      "Epoch 14/100\n",
      "200/200 [==============================] - 3s 16ms/step - loss: 0.0721 - auc: 0.9917 - precision: 0.9523 - recall: 0.9390 - accuracy: 0.9474 - val_loss: 0.2319 - val_auc: 0.9405 - val_precision: 0.8423 - val_recall: 0.8378 - val_accuracy: 0.8391 - lr: 2.5419e-04\n",
      "Epoch 15/100\n",
      "200/200 [==============================] - 3s 16ms/step - loss: 0.0655 - auc: 0.9926 - precision: 0.9601 - recall: 0.9504 - accuracy: 0.9555 - val_loss: 0.2271 - val_auc: 0.9461 - val_precision: 0.8487 - val_recall: 0.8447 - val_accuracy: 0.8475 - lr: 2.2877e-04\n",
      "Epoch 16/100\n",
      "200/200 [==============================] - 3s 16ms/step - loss: 0.0593 - auc: 0.9929 - precision: 0.9650 - recall: 0.9578 - accuracy: 0.9621 - val_loss: 0.2445 - val_auc: 0.9413 - val_precision: 0.8538 - val_recall: 0.8506 - val_accuracy: 0.8519 - lr: 2.0589e-04\n",
      "Epoch 17/100\n",
      "200/200 [==============================] - 3s 16ms/step - loss: 0.0537 - auc: 0.9938 - precision: 0.9686 - recall: 0.9631 - accuracy: 0.9659 - val_loss: 0.2618 - val_auc: 0.9395 - val_precision: 0.8569 - val_recall: 0.8553 - val_accuracy: 0.8559 - lr: 1.8530e-04\n",
      "Epoch 18/100\n",
      "200/200 [==============================] - 3s 16ms/step - loss: 0.0517 - auc: 0.9936 - precision: 0.9688 - recall: 0.9642 - accuracy: 0.9665 - val_loss: 0.2640 - val_auc: 0.9394 - val_precision: 0.8469 - val_recall: 0.8434 - val_accuracy: 0.8441 - lr: 1.6677e-04\n",
      "Epoch 19/100\n",
      "200/200 [==============================] - 3s 17ms/step - loss: 0.0494 - auc: 0.9943 - precision: 0.9724 - recall: 0.9696 - accuracy: 0.9712 - val_loss: 0.2635 - val_auc: 0.9383 - val_precision: 0.8541 - val_recall: 0.8491 - val_accuracy: 0.8519 - lr: 1.5009e-04\n",
      "Epoch 20/100\n",
      "200/200 [==============================] - 3s 15ms/step - loss: 0.0426 - auc: 0.9953 - precision: 0.9759 - recall: 0.9726 - accuracy: 0.9745 - val_loss: 0.2667 - val_auc: 0.9363 - val_precision: 0.8526 - val_recall: 0.8516 - val_accuracy: 0.8519 - lr: 1.3509e-04\n",
      "Epoch 21/100\n",
      "200/200 [==============================] - 3s 15ms/step - loss: 0.0424 - auc: 0.9951 - precision: 0.9774 - recall: 0.9748 - accuracy: 0.9758 - val_loss: 0.2886 - val_auc: 0.9326 - val_precision: 0.8538 - val_recall: 0.8522 - val_accuracy: 0.8522 - lr: 1.2158e-04\n",
      "Epoch 22/100\n",
      "200/200 [==============================] - 3s 15ms/step - loss: 0.0405 - auc: 0.9949 - precision: 0.9783 - recall: 0.9761 - accuracy: 0.9776 - val_loss: 0.3026 - val_auc: 0.9335 - val_precision: 0.8541 - val_recall: 0.8528 - val_accuracy: 0.8534 - lr: 1.0942e-04\n"
     ]
    }
   ],
   "source": [
    "history = model.fit(pad_sequences_train, y_train_enc, \n",
    "          epochs=100, batch_size=64, \n",
    "          validation_split=0.2, \n",
    "          callbacks=[EarlyStopping(patience=10, restore_best_weights=True), LearningRateScheduler(lambda x: 1e-3 * 0.9 ** x)],\n",
    "          )"
   ]
  },
  {
   "cell_type": "code",
   "execution_count": 20,
   "metadata": {},
   "outputs": [
    {
     "data": {
      "text/plain": [
       "<Axes: title={'center': 'Loss'}>"
      ]
     },
     "execution_count": 20,
     "metadata": {},
     "output_type": "execute_result"
    },
    {
     "data": {
      "image/png": "[encoded data removed]",
      "text/plain": [
       "<Figure size 1500x1000 with 1 Axes>"
      ]
     },
     "metadata": {},
     "output_type": "display_data"
    }
   ],
   "source": [
    "history_df = pd.DataFrame(history.history)\n",
    "history_df[['loss', 'val_loss']].plot(figsize=(15, 10), title='Loss', legend=True)"
   ]
  },
  {
   "cell_type": "code",
   "execution_count": 26,
   "metadata": {},
   "outputs": [
    {
     "name": "stdout",
     "output_type": "stream",
     "text": [
      "63/63 [==============================] - 0s 6ms/step\n",
      "              precision    recall  f1-score   support\n",
      "\n",
      "       anger       0.74      0.86      0.80       275\n",
      "        fear       0.86      0.74      0.79       224\n",
      "         joy       0.92      0.90      0.91       695\n",
      "        love       0.61      0.61      0.61       159\n",
      "     sadness       0.93      0.90      0.91       581\n",
      "    surprise       0.55      0.70      0.62        66\n",
      "\n",
      "    accuracy                           0.85      2000\n",
      "   macro avg       0.77      0.78      0.77      2000\n",
      "weighted avg       0.85      0.85      0.85      2000\n",
      "\n"
     ]
    }
   ],
   "source": [
    "print(classification_report(data_test['label'], encoder.inverse_transform(model.predict(pad_sequences_test).argmax(axis=1))))"
   ]
  },
  {
   "cell_type": "code",
   "execution_count": null,
   "metadata": {},
   "outputs": [],
   "source": []
  }
 ],
 "metadata": {
  "kernelspec": {
   "display_name": "env",
   "language": "python",
   "name": "python3"
  },
  "language_info": {
   "codemirror_mode": {
    "name": "ipython",
    "version": 3
   },
   "file_extension": ".py",
   "mimetype": "text/x-python",
   "name": "python",
   "nbconvert_exporter": "python",
   "pygments_lexer": "ipython3",
   "version": "3.11.7"
  }
 },
 "nbformat": 4,
 "nbformat_minor": 2
}
